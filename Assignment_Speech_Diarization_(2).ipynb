{
  "nbformat": 4,
  "nbformat_minor": 0,
  "metadata": {
    "colab": {
      "name": "Assignment_Speech_Diarization (2).ipynb",
      "provenance": [],
      "toc_visible": true
    },
    "kernelspec": {
      "name": "python3",
      "display_name": "Python 3"
    }
  },
  "cells": [
    {
      "cell_type": "code",
      "metadata": {
        "id": "oExDH0kFfWFt",
        "colab_type": "code",
        "outputId": "a9b8e632-9969-4703-dc86-7e67d2445ca1",
        "colab": {
          "base_uri": "https://localhost:8080/",
          "height": 83
        }
      },
      "source": [
        "!pip install vbdiar"
      ],
      "execution_count": 0,
      "outputs": [
        {
          "output_type": "stream",
          "text": [
            "Collecting vbdiar\n",
            "  Downloading https://files.pythonhosted.org/packages/95/fe/8c5577bd07ea36759c721dc79079d57c26f359c53ab6bbc1acfefa64753d/vbdiar-0.0.1-py3-none-any.whl\n",
            "Installing collected packages: vbdiar\n",
            "Successfully installed vbdiar-0.0.1\n"
          ],
          "name": "stdout"
        }
      ]
    },
    {
      "cell_type": "code",
      "metadata": {
        "id": "8HUmtHFqhfCJ",
        "colab_type": "code",
        "outputId": "e46d5911-7bfd-4d8e-e17c-7c698101dab2",
        "colab": {
          "base_uri": "https://localhost:8080/",
          "height": 203
        }
      },
      "source": [
        "!pip install pyaudioanalysis"
      ],
      "execution_count": 0,
      "outputs": [
        {
          "output_type": "stream",
          "text": [
            "Collecting pyaudioanalysis\n",
            "\u001b[?25l  Downloading https://files.pythonhosted.org/packages/d9/3b/b341372514e2908b5f7927010b8c5e246abbf0ca303922c4b4270ad6c9bf/pyAudioAnalysis-0.3.0.tar.gz (46kB)\n",
            "\r\u001b[K     |███████                         | 10kB 14.6MB/s eta 0:00:01\r\u001b[K     |██████████████▏                 | 20kB 862kB/s eta 0:00:01\r\u001b[K     |█████████████████████▎          | 30kB 1.3MB/s eta 0:00:01\r\u001b[K     |████████████████████████████▎   | 40kB 1.7MB/s eta 0:00:01\r\u001b[K     |████████████████████████████████| 51kB 934kB/s \n",
            "\u001b[?25hBuilding wheels for collected packages: pyaudioanalysis\n",
            "  Building wheel for pyaudioanalysis (setup.py) ... \u001b[?25l\u001b[?25hdone\n",
            "  Created wheel for pyaudioanalysis: filename=pyAudioAnalysis-0.3.0-cp36-none-any.whl size=49830 sha256=a59eb8a4b611dd8e8595862422265772a9f0787f070775bd23a3c8d6ab3ae61c\n",
            "  Stored in directory: /root/.cache/pip/wheels/0a/ae/82/a403b29ed85f5be45844c56d77fc9e8ab8c923a7f6295b8fdf\n",
            "Successfully built pyaudioanalysis\n",
            "Installing collected packages: pyaudioanalysis\n",
            "Successfully installed pyaudioanalysis-0.3.0\n"
          ],
          "name": "stdout"
        }
      ]
    },
    {
      "cell_type": "code",
      "metadata": {
        "id": "fhOlCUR_Q-bm",
        "colab_type": "code",
        "outputId": "502693cd-7b7a-40a6-fe30-c0bf80b67a62",
        "colab": {
          "base_uri": "https://localhost:8080/",
          "height": 253
        }
      },
      "source": [
        "!pip install eyed3"
      ],
      "execution_count": 0,
      "outputs": [
        {
          "output_type": "stream",
          "text": [
            "Collecting eyed3\n",
            "\u001b[?25l  Downloading https://files.pythonhosted.org/packages/bd/67/202bcc28b01684f8fe18921f4b1dbe44b471b2c407f5d784849d513e417f/eyeD3-0.9.5-py2.py3-none-any.whl (145kB)\n",
            "\r\u001b[K     |██▎                             | 10kB 15.8MB/s eta 0:00:01\r\u001b[K     |████▌                           | 20kB 870kB/s eta 0:00:01\r\u001b[K     |██████▊                         | 30kB 1.2MB/s eta 0:00:01\r\u001b[K     |█████████                       | 40kB 1.3MB/s eta 0:00:01\r\u001b[K     |███████████▎                    | 51kB 1.0MB/s eta 0:00:01\r\u001b[K     |█████████████▌                  | 61kB 1.1MB/s eta 0:00:01\r\u001b[K     |███████████████▉                | 71kB 1.3MB/s eta 0:00:01\r\u001b[K     |██████████████████              | 81kB 1.4MB/s eta 0:00:01\r\u001b[K     |████████████████████▎           | 92kB 1.5MB/s eta 0:00:01\r\u001b[K     |██████████████████████▋         | 102kB 1.4MB/s eta 0:00:01\r\u001b[K     |████████████████████████▉       | 112kB 1.4MB/s eta 0:00:01\r\u001b[K     |███████████████████████████     | 122kB 1.4MB/s eta 0:00:01\r\u001b[K     |█████████████████████████████▎  | 133kB 1.4MB/s eta 0:00:01\r\u001b[K     |███████████████████████████████▋| 143kB 1.4MB/s eta 0:00:01\r\u001b[K     |████████████████████████████████| 153kB 1.4MB/s \n",
            "\u001b[?25hCollecting deprecation\n",
            "  Downloading https://files.pythonhosted.org/packages/b9/2a/d5084a8781398cea745c01237b95d9762c382697c63760a95cc6a814ad3a/deprecation-2.0.7-py2.py3-none-any.whl\n",
            "Collecting filetype\n",
            "  Downloading https://files.pythonhosted.org/packages/f1/ad/e1e0e85a2c2d02f634a9a400b4476f8187a634ee9d629df16f6432a6ed21/filetype-1.0.6-py2.py3-none-any.whl\n",
            "Requirement already satisfied: dataclasses; python_version < \"3.7\" in /usr/local/lib/python3.6/dist-packages (from eyed3) (0.7)\n",
            "Requirement already satisfied: packaging in /usr/local/lib/python3.6/dist-packages (from deprecation->eyed3) (20.3)\n",
            "Requirement already satisfied: pyparsing>=2.0.2 in /usr/local/lib/python3.6/dist-packages (from packaging->deprecation->eyed3) (2.4.6)\n",
            "Requirement already satisfied: six in /usr/local/lib/python3.6/dist-packages (from packaging->deprecation->eyed3) (1.12.0)\n",
            "Installing collected packages: deprecation, filetype, eyed3\n",
            "Successfully installed deprecation-2.0.7 eyed3-0.9.5 filetype-1.0.6\n"
          ],
          "name": "stdout"
        }
      ]
    },
    {
      "cell_type": "code",
      "metadata": {
        "id": "c2zutJDsQzt1",
        "colab_type": "code",
        "colab": {}
      },
      "source": [
        "import eyed3"
      ],
      "execution_count": 0,
      "outputs": []
    },
    {
      "cell_type": "code",
      "metadata": {
        "id": "xm3gzZAYRYBB",
        "colab_type": "code",
        "outputId": "5e78ac76-e60b-4cd3-9625-7618adbd8c4b",
        "colab": {
          "base_uri": "https://localhost:8080/",
          "height": 103
        }
      },
      "source": [
        "!pip install pydub"
      ],
      "execution_count": 0,
      "outputs": [
        {
          "output_type": "stream",
          "text": [
            "Collecting pydub\n",
            "  Downloading https://files.pythonhosted.org/packages/79/db/eaf620b73a1eec3c8c6f8f5b0b236a50f9da88ad57802154b7ba7664d0b8/pydub-0.23.1-py2.py3-none-any.whl\n",
            "Installing collected packages: pydub\n",
            "Successfully installed pydub-0.23.1\n"
          ],
          "name": "stdout"
        }
      ]
    },
    {
      "cell_type": "code",
      "metadata": {
        "id": "2ORM6JZYRUut",
        "colab_type": "code",
        "outputId": "df6c122d-11e3-4ef9-a9b8-d34798eb50a4",
        "colab": {
          "base_uri": "https://localhost:8080/",
          "height": 187
        }
      },
      "source": [
        "import pydub\n",
        "!pip install hmmlearn"
      ],
      "execution_count": 0,
      "outputs": [
        {
          "output_type": "stream",
          "text": [
            "Collecting hmmlearn\n",
            "\u001b[?25l  Downloading https://files.pythonhosted.org/packages/ff/7b/33f629a443a0671161c019e55c3f1b511c7e9fdce5ab8c8c3c33470eb939/hmmlearn-0.2.3-cp36-cp36m-manylinux1_x86_64.whl (363kB)\n",
            "\u001b[K     |████████████████████████████████| 368kB 1.4MB/s \n",
            "\u001b[?25hRequirement already satisfied: numpy>=1.10 in /usr/local/lib/python3.6/dist-packages (from hmmlearn) (1.18.2)\n",
            "Requirement already satisfied: scikit-learn>=0.16 in /usr/local/lib/python3.6/dist-packages (from hmmlearn) (0.22.2.post1)\n",
            "Requirement already satisfied: scipy>=0.15 in /usr/local/lib/python3.6/dist-packages (from hmmlearn) (1.4.1)\n",
            "Requirement already satisfied: joblib>=0.11 in /usr/local/lib/python3.6/dist-packages (from scikit-learn>=0.16->hmmlearn) (0.14.1)\n",
            "Installing collected packages: hmmlearn\n",
            "Successfully installed hmmlearn-0.2.3\n"
          ],
          "name": "stdout"
        }
      ]
    },
    {
      "cell_type": "code",
      "metadata": {
        "id": "vS5YV_J4R06r",
        "colab_type": "code",
        "colab": {}
      },
      "source": [
        "import hmmlearn"
      ],
      "execution_count": 0,
      "outputs": []
    },
    {
      "cell_type": "code",
      "metadata": {
        "id": "Q7wPjbxUhmI9",
        "colab_type": "code",
        "outputId": "f937771d-721b-42bb-81cd-da91584c9651",
        "colab": {
          "base_uri": "https://localhost:8080/",
          "height": 266
        }
      },
      "source": [
        "from pyAudioAnalysis import audioBasicIO as aIO\n",
        "from pyAudioAnalysis import audioSegmentation as aS\n",
        "[Fs, x] = aIO.read_audio_file(\"/content/meeting-clip2.wav\")\n",
        "segments = aS.silence_removal(x, Fs, 0.020, 0.020, plot = True)"
      ],
      "execution_count": 0,
      "outputs": [
        {
          "output_type": "display_data",
          "data": {
            "image/png": "[encoded data removed]",
            "text/plain": [
              "<Figure size 432x288 with 2 Axes>"
            ]
          },
          "metadata": {
            "tags": []
          }
        }
      ]
    },
    {
      "cell_type": "code",
      "metadata": {
        "id": "RPsdjMEbTZ25",
        "colab_type": "code",
        "colab": {}
      },
      "source": [
        "!mkdir speech"
      ],
      "execution_count": 0,
      "outputs": []
    },
    {
      "cell_type": "code",
      "metadata": {
        "id": "9gCCUvsjZJaj",
        "colab_type": "code",
        "outputId": "4e65d4ad-9a88-43a0-cba1-ec97563e2311",
        "colab": {
          "base_uri": "https://localhost:8080/",
          "height": 117
        }
      },
      "source": [
        "segments"
      ],
      "execution_count": 0,
      "outputs": [
        {
          "output_type": "execute_result",
          "data": {
            "text/plain": [
              "[[1.16, 4.82],\n",
              " [5.54, 7.44],\n",
              " [7.8, 9.14],\n",
              " [9.36, 10.46],\n",
              " [11.040000000000001, 14.94],\n",
              " [15.42, 16.62]]"
            ]
          },
          "metadata": {
            "tags": []
          },
          "execution_count": 39
        }
      ]
    },
    {
      "cell_type": "code",
      "metadata": {
        "id": "J0p6BTAujMHw",
        "colab_type": "code",
        "outputId": "91a117df-b66c-4e72-e87d-15d8b0f21d30",
        "colab": {
          "base_uri": "https://localhost:8080/",
          "height": 389
        }
      },
      "source": [
        "from pyAudioAnalysis import audioSegmentation as aS\n",
        "aS.train_hmm_from_file('/content/meeting-clip1.mp3', '/content/speech', 'hmmTemp1', 1.0, 1.0)\t# train using a single file\n",
        "# aS.train_hmm_from_dir('radioFinal/small/', 'hmmTemp2', 1.0, 1.0)\t\t\t\t\t\t\t# train using a set of files in a folder\n",
        "# aS.hmm_segmentation('data/scottish.wav', 'hmmTemp1', True, 'data/scottish.segments')\t\t\t\t# test 1\n",
        "# aS.hmm_segmentation('data/scottish.wav', 'hmmTemp2', True, 'data/scottish.segments')"
      ],
      "execution_count": 0,
      "outputs": [
        {
          "output_type": "error",
          "ename": "IsADirectoryError",
          "evalue": "ignored",
          "traceback": [
            "\u001b[0;31m---------------------------------------------------------------------------\u001b[0m",
            "\u001b[0;31mIsADirectoryError\u001b[0m                         Traceback (most recent call last)",
            "\u001b[0;32m<ipython-input-38-d6d29570459a>\u001b[0m in \u001b[0;36m<module>\u001b[0;34m()\u001b[0m\n\u001b[1;32m      1\u001b[0m \u001b[0;32mfrom\u001b[0m \u001b[0mpyAudioAnalysis\u001b[0m \u001b[0;32mimport\u001b[0m \u001b[0maudioSegmentation\u001b[0m \u001b[0;32mas\u001b[0m \u001b[0maS\u001b[0m\u001b[0;34m\u001b[0m\u001b[0;34m\u001b[0m\u001b[0m\n\u001b[0;32m----> 2\u001b[0;31m \u001b[0maS\u001b[0m\u001b[0;34m.\u001b[0m\u001b[0mtrain_hmm_from_file\u001b[0m\u001b[0;34m(\u001b[0m\u001b[0;34m'/content/meeting-clip1.mp3'\u001b[0m\u001b[0;34m,\u001b[0m \u001b[0;34m'/content/speech'\u001b[0m\u001b[0;34m,\u001b[0m \u001b[0;34m'hmmTemp1'\u001b[0m\u001b[0;34m,\u001b[0m \u001b[0;36m1.0\u001b[0m\u001b[0;34m,\u001b[0m \u001b[0;36m1.0\u001b[0m\u001b[0;34m)\u001b[0m   \u001b[0;31m# train using a single file\u001b[0m\u001b[0;34m\u001b[0m\u001b[0;34m\u001b[0m\u001b[0m\n\u001b[0m\u001b[1;32m      3\u001b[0m \u001b[0;31m# aS.train_hmm_from_dir('radioFinal/small/', 'hmmTemp2', 1.0, 1.0)                                                      # train using a set of files in a folder\u001b[0m\u001b[0;34m\u001b[0m\u001b[0;34m\u001b[0m\u001b[0;34m\u001b[0m\u001b[0m\n\u001b[1;32m      4\u001b[0m \u001b[0;31m# aS.hmm_segmentation('data/scottish.wav', 'hmmTemp1', True, 'data/scottish.segments')                          # test 1\u001b[0m\u001b[0;34m\u001b[0m\u001b[0;34m\u001b[0m\u001b[0;34m\u001b[0m\u001b[0m\n\u001b[1;32m      5\u001b[0m \u001b[0;31m# aS.hmm_segmentation('data/scottish.wav', 'hmmTemp2', True, 'data/scottish.segments')\u001b[0m\u001b[0;34m\u001b[0m\u001b[0;34m\u001b[0m\u001b[0;34m\u001b[0m\u001b[0m\n",
            "\u001b[0;32m/usr/local/lib/python3.6/dist-packages/pyAudioAnalysis/audioSegmentation.py\u001b[0m in \u001b[0;36mtrain_hmm_from_file\u001b[0;34m(wav_file, gt_file, hmm_model_name, mid_window, mid_step)\u001b[0m\n\u001b[1;32m    362\u001b[0m     \"\"\"\n\u001b[1;32m    363\u001b[0m \u001b[0;34m\u001b[0m\u001b[0m\n\u001b[0;32m--> 364\u001b[0;31m     \u001b[0mseg_start\u001b[0m\u001b[0;34m,\u001b[0m \u001b[0mseg_end\u001b[0m\u001b[0;34m,\u001b[0m \u001b[0mseg_labs\u001b[0m \u001b[0;34m=\u001b[0m \u001b[0mread_segmentation_gt\u001b[0m\u001b[0;34m(\u001b[0m\u001b[0mgt_file\u001b[0m\u001b[0;34m)\u001b[0m\u001b[0;34m\u001b[0m\u001b[0;34m\u001b[0m\u001b[0m\n\u001b[0m\u001b[1;32m    365\u001b[0m     \u001b[0mflags\u001b[0m\u001b[0;34m,\u001b[0m \u001b[0mclass_names\u001b[0m \u001b[0;34m=\u001b[0m \u001b[0msegments_to_labels\u001b[0m\u001b[0;34m(\u001b[0m\u001b[0mseg_start\u001b[0m\u001b[0;34m,\u001b[0m \u001b[0mseg_end\u001b[0m\u001b[0;34m,\u001b[0m \u001b[0mseg_labs\u001b[0m\u001b[0;34m,\u001b[0m \u001b[0mmid_step\u001b[0m\u001b[0;34m)\u001b[0m\u001b[0;34m\u001b[0m\u001b[0;34m\u001b[0m\u001b[0m\n\u001b[1;32m    366\u001b[0m     \u001b[0msampling_rate\u001b[0m\u001b[0;34m,\u001b[0m \u001b[0msignal\u001b[0m \u001b[0;34m=\u001b[0m \u001b[0maudioBasicIO\u001b[0m\u001b[0;34m.\u001b[0m\u001b[0mread_audio_file\u001b[0m\u001b[0;34m(\u001b[0m\u001b[0mwav_file\u001b[0m\u001b[0;34m)\u001b[0m\u001b[0;34m\u001b[0m\u001b[0;34m\u001b[0m\u001b[0m\n",
            "\u001b[0;32m/usr/local/lib/python3.6/dist-packages/pyAudioAnalysis/audioSegmentation.py\u001b[0m in \u001b[0;36mread_segmentation_gt\u001b[0;34m(gt_file)\u001b[0m\n\u001b[1;32m    158\u001b[0m      \u001b[0;34m-\u001b[0m \u001b[0mseg_label\u001b[0m\u001b[0;34m:\u001b[0m     \u001b[0ma\u001b[0m \u001b[0mlist\u001b[0m \u001b[0mof\u001b[0m \u001b[0mrespective\u001b[0m \u001b[0;32mclass\u001b[0m \u001b[0mlabels\u001b[0m \u001b[0;34m(\u001b[0m\u001b[0mstrings\u001b[0m\u001b[0;34m)\u001b[0m\u001b[0;34m\u001b[0m\u001b[0;34m\u001b[0m\u001b[0m\n\u001b[1;32m    159\u001b[0m     \"\"\"\n\u001b[0;32m--> 160\u001b[0;31m     \u001b[0;32mwith\u001b[0m \u001b[0mopen\u001b[0m\u001b[0;34m(\u001b[0m\u001b[0mgt_file\u001b[0m\u001b[0;34m,\u001b[0m \u001b[0;34m'rt'\u001b[0m\u001b[0;34m)\u001b[0m \u001b[0;32mas\u001b[0m \u001b[0mf_handle\u001b[0m\u001b[0;34m:\u001b[0m\u001b[0;34m\u001b[0m\u001b[0;34m\u001b[0m\u001b[0m\n\u001b[0m\u001b[1;32m    161\u001b[0m         \u001b[0mreader\u001b[0m \u001b[0;34m=\u001b[0m \u001b[0mcsv\u001b[0m\u001b[0;34m.\u001b[0m\u001b[0mreader\u001b[0m\u001b[0;34m(\u001b[0m\u001b[0mf_handle\u001b[0m\u001b[0;34m,\u001b[0m \u001b[0mdelimiter\u001b[0m\u001b[0;34m=\u001b[0m\u001b[0;34m','\u001b[0m\u001b[0;34m)\u001b[0m\u001b[0;34m\u001b[0m\u001b[0;34m\u001b[0m\u001b[0m\n\u001b[1;32m    162\u001b[0m         \u001b[0mstart_times\u001b[0m \u001b[0;34m=\u001b[0m \u001b[0;34m[\u001b[0m\u001b[0;34m]\u001b[0m\u001b[0;34m\u001b[0m\u001b[0;34m\u001b[0m\u001b[0m\n",
            "\u001b[0;31mIsADirectoryError\u001b[0m: [Errno 21] Is a directory: '/content/speech'"
          ]
        }
      ]
    },
    {
      "cell_type": "code",
      "metadata": {
        "id": "W9K-PbB9kPTl",
        "colab_type": "code",
        "outputId": "2c8ea796-1ca9-451c-866b-1ae323538f04",
        "colab": {
          "base_uri": "https://localhost:8080/",
          "height": 117
        }
      },
      "source": [
        "segments"
      ],
      "execution_count": 0,
      "outputs": [
        {
          "output_type": "execute_result",
          "data": {
            "text/plain": [
              "[[1.16, 4.82],\n",
              " [5.54, 7.44],\n",
              " [7.8, 9.14],\n",
              " [9.36, 10.46],\n",
              " [11.040000000000001, 14.94],\n",
              " [15.42, 16.62]]"
            ]
          },
          "metadata": {
            "tags": []
          },
          "execution_count": 23
        }
      ]
    },
    {
      "cell_type": "code",
      "metadata": {
        "id": "hbr8jUC0SjW-",
        "colab_type": "code",
        "outputId": "1af5bfe1-e3c9-442f-dfee-79950fe66815",
        "colab": {
          "base_uri": "https://localhost:8080/",
          "height": 203
        }
      },
      "source": [
        "!pip install simplejson"
      ],
      "execution_count": 0,
      "outputs": [
        {
          "output_type": "stream",
          "text": [
            "Collecting simplejson\n",
            "\u001b[?25l  Downloading https://files.pythonhosted.org/packages/98/87/a7b98aa9256c8843f92878966dc3d8d914c14aad97e2c5ce4798d5743e07/simplejson-3.17.0.tar.gz (83kB)\n",
            "\u001b[K     |████████████████████████████████| 92kB 1.7MB/s \n",
            "\u001b[?25hBuilding wheels for collected packages: simplejson\n",
            "  Building wheel for simplejson (setup.py) ... \u001b[?25l\u001b[?25hdone\n",
            "  Created wheel for simplejson: filename=simplejson-3.17.0-cp36-cp36m-linux_x86_64.whl size=114206 sha256=305700dce799e1552584e48fc1602b4a0aa707f511c1d046c074011d577ab9ac\n",
            "  Stored in directory: /root/.cache/pip/wheels/86/c0/83/dcd0339abb2640544bb8e0938aab2d069cef55e5647ce6e097\n",
            "Successfully built simplejson\n",
            "Installing collected packages: simplejson\n",
            "Successfully installed simplejson-3.17.0\n"
          ],
          "name": "stdout"
        }
      ]
    },
    {
      "cell_type": "code",
      "metadata": {
        "id": "x08Bv12FSZFi",
        "colab_type": "code",
        "colab": {}
      },
      "source": [
        "import simplejson"
      ],
      "execution_count": 0,
      "outputs": []
    },
    {
      "cell_type": "code",
      "metadata": {
        "id": "gV-OKoUOkyZU",
        "colab_type": "code",
        "colab": {}
      },
      "source": [
        "from pyAudioAnalysis import audioAnalysis as aA\n",
        "aA.speakerDiarizationWrapper('/content/meeting-clip2.wav',4,useLDA=1)"
      ],
      "execution_count": 0,
      "outputs": []
    },
    {
      "cell_type": "code",
      "metadata": {
        "id": "Y4EnOTCyib06",
        "colab_type": "code",
        "colab": {}
      },
      "source": [
        "#!pip install eyed3\n",
        "#!pip install pydub\n",
        "#!pip install hmmlearn"
      ],
      "execution_count": 0,
      "outputs": []
    },
    {
      "cell_type": "code",
      "metadata": {
        "id": "HYpn0zqaiTT1",
        "colab_type": "code",
        "outputId": "ab6b4c8c-e68e-406f-ca8f-0c14333b5fb4",
        "colab": {
          "base_uri": "https://localhost:8080/",
          "height": 237
        }
      },
      "source": [
        "!wget https://raw.githubusercontent.com/tyiannak/pyAudioAnalysis/master/pyAudioAnalysis/data/diarizationExample.wav"
      ],
      "execution_count": 0,
      "outputs": [
        {
          "output_type": "stream",
          "text": [
            "--2020-03-24 03:15:01--  https://raw.githubusercontent.com/tyiannak/pyAudioAnalysis/master/pyAudioAnalysis/data/diarizationExample.wav\n",
            "Resolving raw.githubusercontent.com (raw.githubusercontent.com)... 151.101.0.133, 151.101.64.133, 151.101.128.133, ...\n",
            "Connecting to raw.githubusercontent.com (raw.githubusercontent.com)|151.101.0.133|:443... connected.\n",
            "HTTP request sent, awaiting response... 200 OK\n",
            "Length: 1343534 (1.3M) [audio/wav]\n",
            "Saving to: ‘diarizationExample.wav’\n",
            "\n",
            "\rdiarizationExample.   0%[                    ]       0  --.-KB/s               \rdiarizationExample. 100%[===================>]   1.28M  --.-KB/s    in 0.1s    \n",
            "\n",
            "2020-03-24 03:15:02 (11.5 MB/s) - ‘diarizationExample.wav’ saved [1343534/1343534]\n",
            "\n"
          ],
          "name": "stdout"
        }
      ]
    },
    {
      "cell_type": "code",
      "metadata": {
        "id": "jn-1wo8FoKGW",
        "colab_type": "code",
        "outputId": "93f76fc5-925b-4125-8ee5-664c5d33bf7b",
        "colab": {
          "base_uri": "https://localhost:8080/",
          "height": 165
        }
      },
      "source": [
        "!pip install pyannotate"
      ],
      "execution_count": 0,
      "outputs": [
        {
          "output_type": "stream",
          "text": [
            "Collecting pyannotate\n",
            "  Downloading https://files.pythonhosted.org/packages/0a/f0/2d6c59cc0662d922421df7a15e428e268fd750b9b257ddd12f167fe2402e/pyannotate-1.2.0-py2.py3-none-any.whl\n",
            "Requirement already satisfied: six in /usr/local/lib/python3.6/dist-packages (from pyannotate) (1.12.0)\n",
            "Collecting mypy-extensions\n",
            "  Downloading https://files.pythonhosted.org/packages/5c/eb/975c7c080f3223a5cdaff09612f3a5221e4ba534f7039db34c35d95fa6a5/mypy_extensions-0.4.3-py2.py3-none-any.whl\n",
            "Installing collected packages: mypy-extensions, pyannotate\n",
            "Successfully installed mypy-extensions-0.4.3 pyannotate-1.2.0\n"
          ],
          "name": "stdout"
        }
      ]
    }
  ]
}